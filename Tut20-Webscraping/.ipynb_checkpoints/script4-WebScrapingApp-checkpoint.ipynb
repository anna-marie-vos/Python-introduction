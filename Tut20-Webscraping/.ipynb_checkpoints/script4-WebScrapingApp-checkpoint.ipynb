{
 "cells": [
  {
   "cell_type": "code",
   "execution_count": 17,
   "metadata": {},
   "outputs": [
    {
     "data": {
      "text/plain": [
       "'$725,000'"
      ]
     },
     "execution_count": 17,
     "metadata": {},
     "output_type": "execute_result"
    }
   ],
   "source": [
    "import requests\n",
    "from bs4 import BeautifulSoup\n",
    "\n",
    "r = requests.get(\"http://www.pythonhow.com/real-estate/rock-springs-wy/LCWYROCKSPRINGS/\")\n",
    "c = r.content\n",
    "soup = BeautifulSoup(c,'html.parser')\n",
    "# print(soup.prettify())\n",
    "\n",
    "all = soup.find_all('div',{'class':'propertyRow'})\n",
    "len(all)\n",
    "\n",
    "# priceString = all[0].find('h4',{'class':'propPrice'}).text\n",
    "# priceString.replace('\\n','').replace(' ','')"
   ]
  },
  {
   "cell_type": "code",
   "execution_count": 21,
   "metadata": {},
   "outputs": [
    {
     "name": "stdout",
     "output_type": "stream",
     "text": [
      "$725,000\n",
      "$452,900\n",
      "$396,900\n",
      "$389,900\n",
      "$254,000\n",
      "$252,900\n",
      "$210,000\n",
      "$209,000\n",
      "$199,900\n",
      "$196,900\n"
     ]
    }
   ],
   "source": [
    "for item in all:\n",
    "    print(item.find('h4',{'class':'propPrice'}).text.replace('\\n','').replace(' ',''))"
   ]
  },
  {
   "cell_type": "code",
   "execution_count": null,
   "metadata": {},
   "outputs": [],
   "source": []
  }
 ],
 "metadata": {
  "kernelspec": {
   "display_name": "Python 3",
   "language": "python",
   "name": "python3"
  },
  "language_info": {
   "codemirror_mode": {
    "name": "ipython",
    "version": 3
   },
   "file_extension": ".py",
   "mimetype": "text/x-python",
   "name": "python",
   "nbconvert_exporter": "python",
   "pygments_lexer": "ipython3",
   "version": "3.5.2"
  }
 },
 "nbformat": 4,
 "nbformat_minor": 2
}
