{
 "cells": [
  {
   "cell_type": "code",
   "execution_count": 1,
   "metadata": {},
   "outputs": [
    {
     "data": {
      "text/plain": [
       "['Tut4-numpyArrayFeatures.ipynb',\n",
       " 'Readme.md',\n",
       " 'Tut2-OpenCV-Numby.ipynb',\n",
       " '.ipynb_checkpoints',\n",
       " 'smallgray.png',\n",
       " 'newimage.png',\n",
       " 'Tut3-slices.ipynb',\n",
       " 'Tut1-Numpy.ipynb']"
      ]
     },
     "execution_count": 1,
     "metadata": {},
     "output_type": "execute_result"
    }
   ],
   "source": [
    "import os\n",
    "import pandas\n",
    "import numpy\n",
    "import cv2\n",
    "os.listdir()"
   ]
  },
  {
   "cell_type": "code",
   "execution_count": 5,
   "metadata": {},
   "outputs": [],
   "source": [
    "image1 = cv2.imread(\"smallgray.png\",0)\n",
    "image2 = cv2.imread(\"newimage.png\",0)"
   ]
  },
  {
   "cell_type": "code",
   "execution_count": 7,
   "metadata": {},
   "outputs": [
    {
     "data": {
      "text/plain": [
       "array([[187, 158, 104, 121, 143,   0, 255,   0, 255,   0],\n",
       "       [198, 125, 255, 255, 147,   0, 125, 255, 255,   0],\n",
       "       [209, 134, 255,  97, 182, 255, 134, 255,  97,   0]], dtype=uint8)"
      ]
     },
     "execution_count": 7,
     "metadata": {},
     "output_type": "execute_result"
    }
   ],
   "source": [
    "concatImage = numpy.hstack((image1, image2))\n",
    "concatImage"
   ]
  },
  {
   "cell_type": "code",
   "execution_count": null,
   "metadata": {
    "collapsed": true
   },
   "outputs": [],
   "source": []
  },
  {
   "cell_type": "code",
   "execution_count": null,
   "metadata": {
    "collapsed": true
   },
   "outputs": [],
   "source": []
  }
 ],
 "metadata": {
  "kernelspec": {
   "display_name": "Python 3",
   "language": "python",
   "name": "python3"
  },
  "language_info": {
   "codemirror_mode": {
    "name": "ipython",
    "version": 3
   },
   "file_extension": ".py",
   "mimetype": "text/x-python",
   "name": "python",
   "nbconvert_exporter": "python",
   "pygments_lexer": "ipython3",
   "version": "3.5.2"
  }
 },
 "nbformat": 4,
 "nbformat_minor": 2
}
