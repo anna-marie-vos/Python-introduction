{
 "cells": [
  {
   "cell_type": "code",
   "execution_count": 1,
   "metadata": {},
   "outputs": [
    {
     "data": {
      "text/plain": [
       "['Tut4-numpyArrayFeatures.ipynb',\n",
       " 'Readme.md',\n",
       " 'Tut2-OpenCV-Numby.ipynb',\n",
       " '.ipynb_checkpoints',\n",
       " 'smallgray.png',\n",
       " 'newimage.png',\n",
       " 'Tut3-slices.ipynb',\n",
       " 'Tut1-Numpy.ipynb']"
      ]
     },
     "execution_count": 1,
     "metadata": {},
     "output_type": "execute_result"
    }
   ],
   "source": [
    "import os\n",
    "import pandas\n",
    "import numpy\n",
    "import cv2\n",
    "os.listdir()"
   ]
  },
  {
   "cell_type": "code",
   "execution_count": 4,
   "metadata": {},
   "outputs": [],
   "source": [
    "image1 = cv2.imread(\"smallgray.png\",0)\n",
    "image2 = cv2.imread(\"newimage.png\",0)"
   ]
  }
 ],
 "metadata": {
  "kernelspec": {
   "display_name": "Python 3",
   "language": "python",
   "name": "python3"
  },
  "language_info": {
   "codemirror_mode": {
    "name": "ipython",
    "version": 3
   },
   "file_extension": ".py",
   "mimetype": "text/x-python",
   "name": "python",
   "nbconvert_exporter": "python",
   "pygments_lexer": "ipython3",
   "version": "3.5.2"
  }
 },
 "nbformat": 4,
 "nbformat_minor": 2
}
